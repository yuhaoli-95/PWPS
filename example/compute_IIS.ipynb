{
 "cells": [
  {
   "cell_type": "code",
   "execution_count": 1,
   "metadata": {},
   "outputs": [],
   "source": [
    "import sys\n",
    "sys.path.append(\"..\")\n",
    "\n",
    "# 求解器类型\n",
    "from pymip.Config import CP_SAT_SOLVER, LP_SOLVER, SCIP_SOLVER\n",
    "# 求解状态\n",
    "from pymip.Config import OPTIMAL, FEASIBLE, INFEASIBLE, NOT_SOLVED\n",
    "# 求解器类\n",
    "from pymip.Solver import Solver"
   ]
  },
  {
   "cell_type": "markdown",
   "metadata": {},
   "source": [
    "求解以下线性规划模型:\n",
    "<!-- $$\n",
    "\\min \\quad 3a + 2\\sum_{i=1}^{10}x_i + 5b\n",
    "$$ --> \n",
    "\n",
    "<div align=\"center\"><img style=\"background: white;\" src=\"https://render.githubusercontent.com/render/math?math=%5Cmin%20%5Cquad%203a%20%2B%202%5Csum_%7Bi%3D1%7D%5E%7B10%7Dx_i%20%2B%205b\"></div>\n",
    "\n",
    "<!-- $$\n",
    "\\textrm{s.t.} \\quad 3 * a + b - 10 + \\sum_{i=1}^{10}x_i = 0\n",
    "$$ --> \n",
    "\n",
    "<div align=\"center\"><img style=\"background: white;\" src=\"https://render.githubusercontent.com/render/math?math=%5Ctextrm%7Bs.t.%7D%20%5Cquad%203%20*%20a%20%2B%20b%20-%2010%20%2B%20%5Csum_%7Bi%3D1%7D%5E%7B10%7Dx_i%20%3D%200\"></div>\n",
    "<!-- $$\n",
    "x_1 \\ge x_2\n",
    "$$ --> \n",
    "\n",
    "<div align=\"center\"><img style=\"background: white;\" src=\"https://render.githubusercontent.com/render/math?math=x_1%20%5Cge%20x_2\"></div>\n",
    "\n",
    "<!-- $$\n",
    "x_1 = x_2 - 1\n",
    "$$ --> \n",
    "\n",
    "<div align=\"center\"><img style=\"background: white;\" src=\"https://render.githubusercontent.com/render/math?math=x_1%20%3D%20x_2%20-%201\"></div>\n",
    "\n",
    "<!-- $$\n",
    "a,b,x_i \\in \\left\\{ 0, 1 \\right\\}\n",
    "$$ --> \n",
    "\n",
    "<div align=\"center\"><img style=\"background: white;\" src=\"https://render.githubusercontent.com/render/math?math=a%2Cb%2Cx_i%20%5Cin%20%5Cleft%5C%7B%200%2C%201%20%5Cright%5C%7D\"></div>\n",
    "\n",
    "$x_1$、$x_2$是$01$变量，但是第三项约束要求$x_1=x_2-1$（也即是$x_1 \\in \\left\\{ -1,0 \\right\\}$），所以第三项约束会导致此问题无解。此时可以调用```CP_SAT_SOLVER```求解器找出冲突的约束项。"
   ]
  },
  {
   "cell_type": "code",
   "execution_count": 2,
   "metadata": {},
   "outputs": [],
   "source": [
    "# 定义函数或者问题类构建模型\n",
    "def build_model(solver: Solver):\n",
    "    all_vars = []\n",
    "    # 创建决策变量、添加约束及目标函数\n",
    "    a = solver.new_bool_var(\"a\")\n",
    "    b = solver.new_bool_var(\"b\")\n",
    "    x = [solver.new_bool_var(f\"x{i}\") for i in range(10)]\n",
    "    all_vars.append(a)\n",
    "    all_vars.append(b)\n",
    "    all_vars.extend(x)\n",
    "    sum_x = sum([item for item in x])\n",
    "    # 添加约束\n",
    "    con_1 = 3 * a + b - 10 + sum_x == 0\n",
    "    con_2 = x[0] >= x[1]\n",
    "    con_3 = x[0] == x[1] - 1\n",
    "    solver.add_constraint(con_1, name = \"constraint 1\")\n",
    "    solver.add_constraint(con_2, name = \"constraint 2\")\n",
    "    solver.add_constraint(con_3, name = \"constraint 3\")\n",
    "    # 添加目标函数\n",
    "    solver.set_obj(3, a)\n",
    "    for item_x in x:\n",
    "        solver.set_obj(2, item_x)\n",
    "    solver.set_obj(5, b)\n",
    "    return all_vars\n"
   ]
  },
  {
   "cell_type": "code",
   "execution_count": 3,
   "metadata": {},
   "outputs": [
    {
     "data": {
      "text/plain": [
       "'infeasible'"
      ]
     },
     "execution_count": 3,
     "metadata": {},
     "output_type": "execute_result"
    }
   ],
   "source": [
    "solver = Solver(solver_name=LP_SOLVER)\n",
    "all_vars = build_model(solver=solver)\n",
    "status = solver.solve()\n",
    "status"
   ]
  },
  {
   "cell_type": "markdown",
   "metadata": {},
   "source": [
    "此时求解器返回求解状态为```'infeasible'```，再调用```CP_SAT_SOLVER```求解器找出相互冲突的约束。当然，因为这里采用的是免费的```ortools```求解器，所以可能计算效率很慢，可能会花费很长时间都没有任何返回，很像程序卡死了，所以建议使用多线程的方式计算冲突约束，到时间就强制kill线程，并给出适当的提示。"
   ]
  },
  {
   "cell_type": "code",
   "execution_count": 4,
   "metadata": {},
   "outputs": [
    {
     "name": "stdout",
     "output_type": "stream",
     "text": [
      "['_ASSUMPTION_constraint 3']\n"
     ]
    }
   ],
   "source": [
    "if status == INFEASIBLE:\n",
    "    solver = Solver(solver_name=CP_SAT_SOLVER, compute_IIS=True)\n",
    "    # solver.compute_IIS = True\n",
    "    all_vars = build_model(solver=solver)\n",
    "    conflict_constraints = solver.find_conflict_constraints()\n",
    "    print(conflict_constraints)"
   ]
  }
 ],
 "metadata": {
  "interpreter": {
   "hash": "61a57a4b5406d2de388e2f91097d4e4bcd7d5f4a46f53a795aa28a02eed27fc5"
  },
  "kernelspec": {
   "display_name": "Python 3.8.8 ('base')",
   "language": "python",
   "name": "python3"
  },
  "language_info": {
   "codemirror_mode": {
    "name": "ipython",
    "version": 3
   },
   "file_extension": ".py",
   "mimetype": "text/x-python",
   "name": "python",
   "nbconvert_exporter": "python",
   "pygments_lexer": "ipython3",
   "version": "3.8.8"
  },
  "orig_nbformat": 4
 },
 "nbformat": 4,
 "nbformat_minor": 2
}
