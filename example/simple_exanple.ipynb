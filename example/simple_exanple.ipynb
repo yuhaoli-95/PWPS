{
 "cells": [
  {
   "cell_type": "code",
   "execution_count": 1,
   "metadata": {},
   "outputs": [],
   "source": [
    "import sys\n",
    "sys.path.append(\"..\")\n",
    "\n",
    "# 求解器类型\n",
    "from pymip.Config import CP_SAT_SOLVER, LP_SOLVER, SCIP_SOLVER\n",
    "# 求解器类\n",
    "from pymip.Solver import Solver"
   ]
  },
  {
   "cell_type": "code",
   "execution_count": 2,
   "metadata": {},
   "outputs": [],
   "source": [
    "# 创建 Solver 实例\n",
    "solver = Solver(solver_name = LP_SOLVER)"
   ]
  },
  {
   "cell_type": "markdown",
   "metadata": {},
   "source": [
    "求解以下线性规划模型:\n",
    "<!-- $$\n",
    "\\min \\quad 3a + 2\\sum_{i=1}^{10}x_i + 5b\n",
    "$$ --> \n",
    "\n",
    "<div align=\"center\"><img style=\"background: white;\" src=\"https://render.githubusercontent.com/render/math?math=%5Cmin%20%5Cquad%203a%20%2B%202%5Csum_%7Bi%3D1%7D%5E%7B10%7Dx_i%20%2B%205b\"></div>\n",
    "\n",
    "<!-- $$\n",
    "\\textrm{s.t.} \\quad 3 * a + b - 10 + \\sum_{i=1}^{10}x_i = 0\n",
    "$$ --> \n",
    "\n",
    "<div align=\"center\"><img style=\"background: white;\" src=\"https://render.githubusercontent.com/render/math?math=%5Ctextrm%7Bs.t.%7D%20%5Cquad%203%20*%20a%20%2B%20b%20-%2010%20%2B%20%5Csum_%7Bi%3D1%7D%5E%7B10%7Dx_i%20%3D%200\"></div>\n",
    "<!-- $$\n",
    "x_1 \\ge x_2\n",
    "$$ --> \n",
    "\n",
    "<div align=\"center\"><img style=\"background: white;\" src=\"https://render.githubusercontent.com/render/math?math=x_1%20%5Cge%20x_2\"></div>\n",
    "\n",
    "<!-- $$\n",
    "a,b,x_i \\in \\left\\{ 0, 1 \\right\\}\n",
    "$$ --> \n",
    "\n",
    "<div align=\"center\"><img style=\"background: white;\" src=\"https://render.githubusercontent.com/render/math?math=a%2Cb%2Cx_i%20%5Cin%20%5Cleft%5C%7B%200%2C%201%20%5Cright%5C%7D\"></div>\n"
   ]
  },
  {
   "cell_type": "code",
   "execution_count": 3,
   "metadata": {},
   "outputs": [
    {
     "data": {
      "text/plain": [
       "(< PWPS.BoolVar \"a\" (type = LP_SOLVER) >,\n",
       " < PWPS.BoolVar \"b\" (type = LP_SOLVER) >,\n",
       " [< PWPS.BoolVar \"x0\" (type = LP_SOLVER) >,\n",
       "  < PWPS.BoolVar \"x1\" (type = LP_SOLVER) >,\n",
       "  < PWPS.BoolVar \"x2\" (type = LP_SOLVER) >,\n",
       "  < PWPS.BoolVar \"x3\" (type = LP_SOLVER) >,\n",
       "  < PWPS.BoolVar \"x4\" (type = LP_SOLVER) >,\n",
       "  < PWPS.BoolVar \"x5\" (type = LP_SOLVER) >,\n",
       "  < PWPS.BoolVar \"x6\" (type = LP_SOLVER) >,\n",
       "  < PWPS.BoolVar \"x7\" (type = LP_SOLVER) >,\n",
       "  < PWPS.BoolVar \"x8\" (type = LP_SOLVER) >,\n",
       "  < PWPS.BoolVar \"x9\" (type = LP_SOLVER) >],\n",
       " < PWPS \"Expression\", 0 + x0 + x1 + x2 + x3 + x4 + x5 + x6 + x7 + x8 + x9, type: LP_SOLVER >)"
      ]
     },
     "execution_count": 3,
     "metadata": {},
     "output_type": "execute_result"
    }
   ],
   "source": [
    "# 创建决策变量、添加约束及目标函数\n",
    "a = solver.new_bool_var(\"a\")\n",
    "b = solver.new_bool_var(\"b\")\n",
    "x = [solver.new_bool_var(f\"x{i}\") for i in range(10)]\n",
    "sum_x = sum([item for item in x])\n",
    "a, b,x, sum_x"
   ]
  },
  {
   "cell_type": "code",
   "execution_count": 4,
   "metadata": {},
   "outputs": [
    {
     "data": {
      "text/plain": [
       "(< PWPS \"Expression\", 3 * a + b - 10 + 0 + x0 + x1 + x2 + x3 + x4 + x5 + x6 + x7 + x8 + x9 == 0, type: LP_SOLVER >,\n",
       " < PWPS \"Expression\", x0 >= x1, type: LP_SOLVER >)"
      ]
     },
     "execution_count": 4,
     "metadata": {},
     "output_type": "execute_result"
    }
   ],
   "source": [
    "# 添加约束\n",
    "con_1 = 3 * a + b - 10 + sum_x == 0\n",
    "con_2 = x[0] >= x[1]\n",
    "solver.add_constraint(con_1, name = \"constraint 1\")\n",
    "solver.add_constraint(con_2, name = \"constraint 2\")\n",
    "con_1, con_2"
   ]
  },
  {
   "cell_type": "code",
   "execution_count": 5,
   "metadata": {},
   "outputs": [],
   "source": [
    "# 添加目标函数\n",
    "solver.set_obj(3, a)\n",
    "for item_x in x:\n",
    "    solver.set_obj(2, item_x)\n",
    "solver.set_obj(5, b)"
   ]
  },
  {
   "cell_type": "code",
   "execution_count": 6,
   "metadata": {},
   "outputs": [
    {
     "name": "stdout",
     "output_type": "stream",
     "text": [
      "status: optimal\n",
      "solution: \n",
      "a = 1\n",
      "b = 0\n",
      "x0 = 0\n",
      "x1 = 0\n",
      "x2 = 0\n",
      "x3 = 1\n",
      "x4 = 1\n",
      "x5 = 1\n",
      "x6 = 1\n",
      "x7 = 1\n",
      "x8 = 1\n",
      "x9 = 1\n",
      "objective value:  16.999999999999996\n"
     ]
    }
   ],
   "source": [
    "# 求解、输出模型文件及查看解\n",
    "status = solver.solve()\n",
    "solver.export_model(file_path=\"./model/model.txt\")\n",
    "print(f\"status: {status}\")\n",
    "print(f\"solution: \")\n",
    "print(f\"{a.name} = {solver.get_var_value(a)}\")\n",
    "print(f\"{b.name} = {solver.get_var_value(b)}\")\n",
    "[print(f\"{x[i].name} = {solver.get_var_value(x[i])}\") for i in range(len(x))]\n",
    "print(\"objective value: \", solver.objective_value)"
   ]
  }
 ],
 "metadata": {
  "interpreter": {
   "hash": "61a57a4b5406d2de388e2f91097d4e4bcd7d5f4a46f53a795aa28a02eed27fc5"
  },
  "kernelspec": {
   "display_name": "Python 3.8.8 ('base')",
   "language": "python",
   "name": "python3"
  },
  "language_info": {
   "codemirror_mode": {
    "name": "ipython",
    "version": 3
   },
   "file_extension": ".py",
   "mimetype": "text/x-python",
   "name": "python",
   "nbconvert_exporter": "python",
   "pygments_lexer": "ipython3",
   "version": "3.8.8"
  },
  "orig_nbformat": 4
 },
 "nbformat": 4,
 "nbformat_minor": 2
}
